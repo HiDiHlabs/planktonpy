{
 "cells": [
  {
   "cell_type": "code",
   "execution_count": 1,
   "id": "9e4a71c1",
   "metadata": {},
   "outputs": [
    {
     "data": {
      "text/html": [
       "<style>.container { width:95% !important; }</style>"
      ],
      "text/plain": [
       "<IPython.core.display.HTML object>"
      ]
     },
     "metadata": {},
     "output_type": "display_data"
    }
   ],
   "source": [
    "from IPython.display import display, HTML\n",
    "display(HTML(\"<style>.container { width:95% !important; }</style>\"))\n",
    "\n",
    "import  matplotlib\n",
    "matplotlib.rcParams['figure.figsize'] = (15, 15)\n"
   ]
  },
  {
   "cell_type": "markdown",
   "id": "ff6a8be3",
   "metadata": {},
   "source": [
    "# Welcome!\n",
    "\n",
    "This is the empty notebook for plankton's data handling tutorial, which can be found at [https://link-url-here.org](https://link-url-here.org)\n",
    "\n",
    "To make it easier, we already implemented the data loading routine that fetches Qian&al's Hippocampal ISS data set and opens it into 'qian_et_al':"
   ]
  },
  {
   "cell_type": "code",
   "execution_count": 5,
   "id": "3a8677f7",
   "metadata": {},
   "outputs": [
    {
     "data": {
      "text/html": [
       "<div>\n",
       "<style scoped>\n",
       "    .dataframe tbody tr th:only-of-type {\n",
       "        vertical-align: middle;\n",
       "    }\n",
       "\n",
       "    .dataframe tbody tr th {\n",
       "        vertical-align: top;\n",
       "    }\n",
       "\n",
       "    .dataframe thead th {\n",
       "        text-align: right;\n",
       "    }\n",
       "</style>\n",
       "<table border=\"1\" class=\"dataframe\">\n",
       "  <thead>\n",
       "    <tr style=\"text-align: right;\">\n",
       "      <th></th>\n",
       "      <th>gene</th>\n",
       "      <th>spotX</th>\n",
       "      <th>spotY</th>\n",
       "      <th>parent_id</th>\n",
       "      <th>parent_prob</th>\n",
       "    </tr>\n",
       "  </thead>\n",
       "  <tbody>\n",
       "    <tr>\n",
       "      <th>0</th>\n",
       "      <td>Crym</td>\n",
       "      <td>534</td>\n",
       "      <td>3</td>\n",
       "      <td>0</td>\n",
       "      <td>0.760157</td>\n",
       "    </tr>\n",
       "    <tr>\n",
       "      <th>1</th>\n",
       "      <td>Nrn1</td>\n",
       "      <td>563</td>\n",
       "      <td>3</td>\n",
       "      <td>111</td>\n",
       "      <td>0.992581</td>\n",
       "    </tr>\n",
       "    <tr>\n",
       "      <th>2</th>\n",
       "      <td>Slc24a2</td>\n",
       "      <td>574</td>\n",
       "      <td>3</td>\n",
       "      <td>111</td>\n",
       "      <td>0.933438</td>\n",
       "    </tr>\n",
       "    <tr>\n",
       "      <th>3</th>\n",
       "      <td>Gad1</td>\n",
       "      <td>22</td>\n",
       "      <td>540</td>\n",
       "      <td>1</td>\n",
       "      <td>0.921028</td>\n",
       "    </tr>\n",
       "    <tr>\n",
       "      <th>4</th>\n",
       "      <td>Gad1</td>\n",
       "      <td>24</td>\n",
       "      <td>538</td>\n",
       "      <td>1</td>\n",
       "      <td>0.918960</td>\n",
       "    </tr>\n",
       "    <tr>\n",
       "      <th>...</th>\n",
       "      <td>...</td>\n",
       "      <td>...</td>\n",
       "      <td>...</td>\n",
       "      <td>...</td>\n",
       "      <td>...</td>\n",
       "    </tr>\n",
       "    <tr>\n",
       "      <th>42575</th>\n",
       "      <td>Npy</td>\n",
       "      <td>6883</td>\n",
       "      <td>1974</td>\n",
       "      <td>3056</td>\n",
       "      <td>0.961590</td>\n",
       "    </tr>\n",
       "    <tr>\n",
       "      <th>42576</th>\n",
       "      <td>Npy</td>\n",
       "      <td>6889</td>\n",
       "      <td>1958</td>\n",
       "      <td>3056</td>\n",
       "      <td>0.921715</td>\n",
       "    </tr>\n",
       "    <tr>\n",
       "      <th>42577</th>\n",
       "      <td>Npy</td>\n",
       "      <td>6911</td>\n",
       "      <td>2433</td>\n",
       "      <td>3074</td>\n",
       "      <td>0.905646</td>\n",
       "    </tr>\n",
       "    <tr>\n",
       "      <th>42578</th>\n",
       "      <td>Npy</td>\n",
       "      <td>6940</td>\n",
       "      <td>2360</td>\n",
       "      <td>0</td>\n",
       "      <td>0.566679</td>\n",
       "    </tr>\n",
       "    <tr>\n",
       "      <th>42579</th>\n",
       "      <td>Npy</td>\n",
       "      <td>6966</td>\n",
       "      <td>2257</td>\n",
       "      <td>0</td>\n",
       "      <td>0.999855</td>\n",
       "    </tr>\n",
       "  </tbody>\n",
       "</table>\n",
       "<p>42580 rows × 5 columns</p>\n",
       "</div>"
      ],
      "text/plain": [
       "          gene  spotX  spotY  parent_id  parent_prob\n",
       "0         Crym    534      3          0     0.760157\n",
       "1         Nrn1    563      3        111     0.992581\n",
       "2      Slc24a2    574      3        111     0.933438\n",
       "3         Gad1     22    540          1     0.921028\n",
       "4         Gad1     24    538          1     0.918960\n",
       "...        ...    ...    ...        ...          ...\n",
       "42575      Npy   6883   1974       3056     0.961590\n",
       "42576      Npy   6889   1958       3056     0.921715\n",
       "42577      Npy   6911   2433       3074     0.905646\n",
       "42578      Npy   6940   2360          0     0.566679\n",
       "42579      Npy   6966   2257          0     0.999855\n",
       "\n",
       "[42580 rows x 5 columns]"
      ]
     },
     "execution_count": 5,
     "metadata": {},
     "output_type": "execute_result"
    }
   ],
   "source": [
    "#data loading\n",
    "\n",
    "import pandas as pd\n",
    "import os \n",
    "\n",
    "data_folder='../test/qian-et-al/data/leftCA1/'\n",
    "\n",
    "xiaoyan_et_al = pd.read_csv(os.path.join(data_folder,'spots_w_segmentation_leftCA1_4-3.csv'))\n",
    "\n",
    "#display pandas data set\n",
    "xiaoyan_et_al"
   ]
  },
  {
   "cell_type": "code",
   "execution_count": null,
   "id": "d251f4d2",
   "metadata": {},
   "outputs": [],
   "source": []
  }
 ],
 "metadata": {
  "kernelspec": {
   "display_name": "Python 3 (ipykernel)",
   "language": "python",
   "name": "python3"
  },
  "language_info": {
   "codemirror_mode": {
    "name": "ipython",
    "version": 3
   },
   "file_extension": ".py",
   "mimetype": "text/x-python",
   "name": "python",
   "nbconvert_exporter": "python",
   "pygments_lexer": "ipython3",
   "version": "3.9.13"
  }
 },
 "nbformat": 4,
 "nbformat_minor": 5
}
