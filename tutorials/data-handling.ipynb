{
 "cells": [
  {
   "cell_type": "code",
   "execution_count": 1,
   "id": "9e4a71c1",
   "metadata": {},
   "outputs": [
    {
     "data": {
      "text/html": [
       "<style>.container { width:95% !important; }</style>"
      ],
      "text/plain": [
       "<IPython.core.display.HTML object>"
      ]
     },
     "metadata": {},
     "output_type": "display_data"
    }
   ],
   "source": [
    "from IPython.display import display, HTML\n",
    "display(HTML(\"<style>.container { width:95% !important; }</style>\"))\n",
    "\n",
    "import  matplotlib\n",
    "matplotlib.rcParams['figure.figsize'] = (15, 15)\n"
   ]
  },
  {
   "cell_type": "markdown",
   "id": "ff6a8be3",
   "metadata": {},
   "source": [
    "# Welcome!\n",
    "\n",
    "This is the empty notebook for plankton's data handling tutorial, which can be found at [https://link-url-here.org](https://link-url-here.org)\n",
    "\n",
    "To make it easier, we already implemented the data loading routine that fetches Qian&al's Hippocampal ISS data set and opens it into 'qian_et_al':"
   ]
  },
  {
   "cell_type": "code",
   "execution_count": 2,
   "id": "3a8677f7",
   "metadata": {},
   "outputs": [],
   "source": [
    "import pandas as pd\n"
   ]
  },
  {
   "cell_type": "code",
   "execution_count": null,
   "id": "d251f4d2",
   "metadata": {},
   "outputs": [],
   "source": []
  }
 ],
 "metadata": {
  "kernelspec": {
   "display_name": "Python 3 (ipykernel)",
   "language": "python",
   "name": "python3"
  },
  "language_info": {
   "codemirror_mode": {
    "name": "ipython",
    "version": 3
   },
   "file_extension": ".py",
   "mimetype": "text/x-python",
   "name": "python",
   "nbconvert_exporter": "python",
   "pygments_lexer": "ipython3",
   "version": "3.9.13"
  }
 },
 "nbformat": 4,
 "nbformat_minor": 5
}
