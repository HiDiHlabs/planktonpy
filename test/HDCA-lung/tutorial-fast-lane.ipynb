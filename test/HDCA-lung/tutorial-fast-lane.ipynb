{
 "cells": [
  {
   "cell_type": "markdown",
   "id": "4ce5702e",
   "metadata": {},
   "source": [
    "# Tutorial 'QC, topographical analysis and segmentaton-free of Spot-based transcriptomics data'\n",
    "\n",
    "This is the fast lane of the tutorial. Just start a session and click 'run the whole notebook' on the top to start executing.\n",
    "\n",
    "UMAP calculation takes a few minutes, which we can use in the main notebook to get familiar with the general exploratory workflow."
   ]
  },
  {
   "cell_type": "code",
   "execution_count": 1,
   "id": "9358334f",
   "metadata": {},
   "outputs": [
    {
     "data": {
      "text/html": [
       "<style>.container { width:95% !important; }</style>"
      ],
      "text/plain": [
       "<IPython.core.display.HTML object>"
      ]
     },
     "metadata": {},
     "output_type": "display_data"
    }
   ],
   "source": [
    "# widens the screen:\n",
    "\n",
    "%load_ext autoreload\n",
    "%autoreload 2\n",
    "\n",
    "from IPython.display import display, HTML\n",
    "display(HTML(\"<style>.container { width:95% !important; }</style>\"))\n",
    "\n",
    "import sys\n",
    "import os\n",
    "\n",
    "sys.path.append(os.path.join(os.path.abspath('.'),'../..'))"
   ]
  },
  {
   "cell_type": "code",
   "execution_count": 2,
   "id": "b553614e",
   "metadata": {},
   "outputs": [],
   "source": [
    "# imports, define a handy figure function:\n",
    "\n",
    "import plankton.plankton as pl\n",
    "import matplotlib.pyplot as plt\n",
    "import numpy as np\n",
    "import pandas as pd\n",
    "import scanpy as sc\n",
    "\n",
    "def figure(width=8,height=8):\n",
    "    plt.figure(figsize=(width,height))\n"
   ]
  },
  {
   "cell_type": "code",
   "execution_count": 3,
   "id": "3199a1f3",
   "metadata": {},
   "outputs": [],
   "source": [
    "# load background stain:\n",
    "\n",
    "\n",
    "um_p_px=0.325\n",
    "\n",
    "coordinates = pd.read_csv('./data/in_situ_sequencing/coordinates.csv')\n",
    "bg = -plt.imread('background.jpg').mean(-1)\n",
    "bg = (bg-bg.min())/(bg.max()-bg.min())\n",
    "bg_map = pl.PixelMap(pixel_data=bg,\n",
    "                     cmap='Greys',\n",
    "                     px_p_um = 0.504/um_p_px)\n",
    "del bg"
   ]
  },
  {
   "cell_type": "code",
   "execution_count": 4,
   "id": "631b7998",
   "metadata": {},
   "outputs": [],
   "source": [
    "rands = np.random.rand(0,2,)*np.array([coordinates.Global_x_pos.values.max(),coordinates.Global_y_pos.values.max()])\n",
    "\n",
    "x = np.hstack([coordinates.Global_x_pos.values,rands[:,0]])\n",
    "y = np.hstack([coordinates.Global_y_pos.values,rands[:,1]])\n",
    "\n",
    "rand_genes = coordinates.Gene.values[np.random.randint(len(coordinates.Gene.unique()), size=(rands.shape[0]))]\n",
    "g = np.hstack([coordinates.Gene.values,rand_genes])"
   ]
  },
  {
   "cell_type": "code",
   "execution_count": 5,
   "id": "70a257b4",
   "metadata": {},
   "outputs": [],
   "source": [
    "sdata = pl.SpatialData(x_coordinates=x*um_p_px,\n",
    "                       y_coordinates=y*um_p_px,\n",
    "                       genes=g,\n",
    "                       pixel_maps={'DAPI':bg_map}\n",
    "                      )"
   ]
  },
  {
   "cell_type": "code",
   "execution_count": 6,
   "id": "64ec9268",
   "metadata": {},
   "outputs": [],
   "source": [
    "# sdata['noise']=False\n",
    "# sdata.loc[len(sdata)-rands.shape[0]:,'noise']=True\n",
    "\n",
    "sdata = sdata[sdata.stats.progressive_sample(1.05)].spatial[100:2800,1000:]"
   ]
  },
  {
   "cell_type": "code",
   "execution_count": null,
   "id": "79e6423d",
   "metadata": {},
   "outputs": [
    {
     "name": "stdout",
     "output_type": "stream",
     "text": [
      "Reducing dimensions with FastICA\n"
     ]
    },
    {
     "name": "stderr",
     "output_type": "stream",
     "text": [
      "/home/sebastian/anaconda3/envs/plankton-dev/lib/python3.9/site-packages/sklearn/decomposition/_fastica.py:488: FutureWarning: From version 1.3 whiten='unit-variance' will be used by default.\n",
      "  warnings.warn(\n"
     ]
    }
   ],
   "source": [
    "# Parameterization for data cleaning/artefact removal:`\n",
    "\n",
    "#bw 100: segmentation\n",
    "\n",
    "import time\n",
    "\n",
    "knn_neighbors=150\n",
    "bandwidth=15\n",
    "n_neighbors=25\n",
    "metric='euclidean'\n",
    "min_dist=0.02\n",
    "random_state=42\n",
    "zero_weight=0.0\n",
    "cutoff=6\n",
    "\n",
    "_=sdata.graph.update_knn(n_neighbors=knn_neighbors)\n",
    "\n",
    "\n",
    "t = time.perf_counter()\n",
    "sdata.graph.run_umap(bandwidth=bandwidth,n_neighbors=n_neighbors, min_dist=min_dist, metric=metric, random_state=random_state,zero_weight=zero_weight,cutoff=cutoff)\n",
    "t = (time.perf_counter()-t)\n",
    "print(t)"
   ]
  },
  {
   "cell_type": "code",
   "execution_count": null,
   "id": "2b7ca007",
   "metadata": {},
   "outputs": [],
   "source": [
    "assert False"
   ]
  },
  {
   "cell_type": "code",
   "execution_count": null,
   "id": "f243ae85",
   "metadata": {},
   "outputs": [],
   "source": [
    "sdata.save('tutorial-umap.pl')\n",
    "# sdata = pl.load('tutorial-umap.pl')"
   ]
  },
  {
   "cell_type": "code",
   "execution_count": null,
   "id": "533b0ad5",
   "metadata": {},
   "outputs": [],
   "source": [
    "plt.figure(figsize=(15,15))\n",
    "\n",
    "sdata.graph.map_and_umap(alpha=0.3,c=sdata.graph.umap_1)\n",
    "plt.suptitle(f\"nbrs:{n_neighbors}-cutoff:{cutoff}-bw:{bandwidth}-t:{int(t)}\")"
   ]
  },
  {
   "cell_type": "code",
   "execution_count": null,
   "id": "7635f875",
   "metadata": {
    "scrolled": false
   },
   "outputs": [],
   "source": [
    "sdata.graph.umap_js()"
   ]
  },
  {
   "cell_type": "code",
   "execution_count": null,
   "id": "28d9f0ef",
   "metadata": {},
   "outputs": [],
   "source": [
    "figure()\n",
    "sdata[~sdata.bg_noise].scatter()"
   ]
  },
  {
   "cell_type": "code",
   "execution_count": null,
   "id": "d7ccd50e",
   "metadata": {},
   "outputs": [],
   "source": [
    "sdata.save('tissue_clusters.pl')"
   ]
  },
  {
   "cell_type": "code",
   "execution_count": null,
   "id": "cc8601a2",
   "metadata": {
    "scrolled": false
   },
   "outputs": [],
   "source": [
    "figure(12,12)\n",
    "\n",
    "tissues = ['epithel', 'endo_1', 'endo_2',\n",
    "       'duct_1', 'duct_2', 'mucus_1', 'mucus_2']\n",
    "sdata['tissues'] = sdata.unite_columns(tissues)\n",
    "\n",
    "# sdata = sdata[~sdata.bg_noise].drop('bg_noise')\n",
    "sdata\n",
    "# sdata[~sdata.bg_noise].scatter()"
   ]
  },
  {
   "cell_type": "code",
   "execution_count": null,
   "id": "eb38c086",
   "metadata": {
    "scrolled": false
   },
   "outputs": [],
   "source": [
    "from matplotlib.cm import get_cmap\n",
    "\n",
    "accent = get_cmap('nipy_spectral')\n",
    "\n",
    "figure(9,9)\n",
    "out = sdata.scatter(c=sdata.tissues.cat.codes,cmap=accent)\n",
    "\n",
    "handlers = [plt.scatter([],[],color=accent(f)) for f in np.linspace(0.2,1,len(tissues))]\n",
    "\n",
    "plt.legend(handlers,tissues,)\n"
   ]
  },
  {
   "cell_type": "markdown",
   "id": "a2fc87f1",
   "metadata": {},
   "source": [
    "## Analyse DEGs"
   ]
  },
  {
   "cell_type": "markdown",
   "id": "b6d9bbd0",
   "metadata": {},
   "source": [
    "### ducts:"
   ]
  },
  {
   "cell_type": "code",
   "execution_count": null,
   "id": "bb31402a",
   "metadata": {},
   "outputs": [],
   "source": [
    "from plankton.stats import mor_normalize\n",
    "\n",
    "mask_ducts = sdata.duct_1|sdata.duct_2\n",
    "\n",
    "\n",
    "c1,c2 = mor_normalize(sdata[mask_ducts],sdata[~mask_ducts])\n",
    "\n",
    "figure(25,5)\n",
    "\n",
    "lfc_ducts = np.log2(c1/c2).sort_values()\n",
    "\n",
    "lfc_ducts.plot.bar()"
   ]
  },
  {
   "cell_type": "code",
   "execution_count": null,
   "id": "12c8b78c",
   "metadata": {},
   "outputs": [],
   "source": [
    "# degs for ducts:\n",
    "\n",
    "figure(8,8)\n",
    "sdata[sdata.g.isin(lfc_ducts[-2:].index)].scatter(legend=True)"
   ]
  },
  {
   "cell_type": "markdown",
   "id": "522aa1f0",
   "metadata": {},
   "source": [
    "### mucus"
   ]
  },
  {
   "cell_type": "code",
   "execution_count": null,
   "id": "e8084b78",
   "metadata": {},
   "outputs": [],
   "source": [
    "mask_mucus = sdata.mucus_1|sdata.mucus_2\n",
    "\n",
    "c1,c2 = mor_normalize(sdata[mask_mucus],sdata[~mask_mucus])\n",
    "\n",
    "lfc_mucus = np.log(c1/c2).sort_values()\n",
    "lfc_mucus.plot.bar()"
   ]
  },
  {
   "cell_type": "code",
   "execution_count": null,
   "id": "95a2d3fb",
   "metadata": {},
   "outputs": [],
   "source": [
    "from plankton.stats import mor_normalize\n",
    "\n",
    "c1,c2=mor_normalize(sdata[sdata.mucus_1|sdata.duct_1].stats,sdata[sdata.mucus_2|sdata.duct_2].stats)\n",
    "\n",
    "figure(25,5)\n",
    "np.log(c1/c2).sort_values().plot.bar()\n",
    "\n",
    "degs = (c1/c2).sort_values()"
   ]
  },
  {
   "cell_type": "code",
   "execution_count": null,
   "id": "407538c8",
   "metadata": {
    "scrolled": false
   },
   "outputs": [],
   "source": [
    "figure(8,8)\n",
    "\n",
    "sdata[sdata.g.isin(degs[-3:].index)].scatter(color='blue',alpha=0.1)\n",
    "sdata[sdata.g.isin(degs[:6].index)].scatter(color='lime',alpha=0.1)\n"
   ]
  },
  {
   "cell_type": "markdown",
   "id": "d6f899e3",
   "metadata": {},
   "source": [
    "# unsupervised approach using SSAM-denovo"
   ]
  },
  {
   "cell_type": "code",
   "execution_count": null,
   "id": "26cf0b9b",
   "metadata": {},
   "outputs": [],
   "source": [
    "from plankton.utils import localmax_sampling,ssam\n",
    "\n",
    "# create a signature matrix through local-max sampling\n",
    "signatures = pd.DataFrame(localmax_sampling(sdata,n_clusters=8,bandwidth=5),columns=sdata.genes)\n",
    "\n",
    "ct_map = ssam(sdata,signatures=signatures,kernel_bandwidth=10,threshold_exp=0.8)"
   ]
  },
  {
   "cell_type": "code",
   "execution_count": null,
   "id": "71bdd7c5",
   "metadata": {},
   "outputs": [],
   "source": [
    "figure(9,9)\n",
    "ct_map.imshow(cmap='nipy_spectral')"
   ]
  },
  {
   "cell_type": "code",
   "execution_count": null,
   "id": "354824f6",
   "metadata": {},
   "outputs": [],
   "source": [
    "sdata_epi = sdata[~sdata.bg_noise & (sdata.inner_ducts_1|sdata.inner_ducts_2)]"
   ]
  },
  {
   "cell_type": "code",
   "execution_count": null,
   "id": "49d16b3c",
   "metadata": {},
   "outputs": [],
   "source": [
    "figure()\n",
    "\n",
    "from plankton.utils import hbar_compare\n",
    "\n",
    "hbar_compare(sdata[sdata.noise].stats, sdata[~sdata.noise].stats,('noise','signal'))"
   ]
  },
  {
   "cell_type": "code",
   "execution_count": null,
   "id": "2e255064",
   "metadata": {},
   "outputs": [],
   "source": [
    "# Parameterization for data cleaning/artefact removal:`\n",
    "\n",
    "import time\n",
    "\n",
    "knn_neighbors=250\n",
    "bandwidth=25\n",
    "n_neighbors=100\n",
    "metric='cosine'\n",
    "min_dist=0.2\n",
    "random_state=42\n",
    "zero_weight=0.0\n",
    "cutoff=30\n",
    "\n",
    "_=sdata_epi.graph.update_knn(n_neighbors=knn_neighbors)\n",
    "\n",
    "\n",
    "t = time.perf_counter()\n",
    "sdata_epi.graph.run_umap(bandwidth=bandwidth,n_neighbors=n_neighbors, min_dist=min_dist, metric=metric, random_state=random_state,zero_weight=zero_weight,cutoff=cutoff)\n",
    "print(time.perf_counter()-t)\n"
   ]
  },
  {
   "cell_type": "code",
   "execution_count": null,
   "id": "fcf50d47",
   "metadata": {},
   "outputs": [],
   "source": [
    "sdata_epi.graph.map_and_umap()"
   ]
  },
  {
   "cell_type": "code",
   "execution_count": null,
   "id": "5561567c",
   "metadata": {},
   "outputs": [],
   "source": [
    "sdata_epi.graph.umap_js()"
   ]
  },
  {
   "cell_type": "code",
   "execution_count": null,
   "id": "63ebe039",
   "metadata": {},
   "outputs": [],
   "source": []
  }
 ],
 "metadata": {
  "kernelspec": {
   "display_name": "Python 3 (ipykernel)",
   "language": "python",
   "name": "python3"
  },
  "language_info": {
   "codemirror_mode": {
    "name": "ipython",
    "version": 3
   },
   "file_extension": ".py",
   "mimetype": "text/x-python",
   "name": "python",
   "nbconvert_exporter": "python",
   "pygments_lexer": "ipython3",
   "version": "3.9.13"
  },
  "vscode": {
   "interpreter": {
    "hash": "916dbcbb3f70747c44a77c7bcd40155683ae19c65e1c03b4aa3499c5328201f1"
   }
  }
 },
 "nbformat": 4,
 "nbformat_minor": 5
}
